{
 "cells": [
  {
   "cell_type": "code",
   "execution_count": null,
   "id": "9fb60fef",
   "metadata": {},
   "outputs": [],
   "source": [
    "# importing tools to use Flask and Mongo to create a web app\n",
    "# use flask to render a template, redirecting to another url, and creating a URL\n",
    "from flask import Flask, render_template, redirect, url_for\n",
    "# use PyMongo to interact with our Mongo database\n",
    "from flask_pymongo import PyMongo\n",
    "# use scraping code and convert Jupyter notebook to Python\n",
    "import scraping\n",
    "# set up Flask\n",
    "app = Flask(__name__)"
   ]
  },
  {
   "cell_type": "code",
   "execution_count": null,
   "id": "06b989b2",
   "metadata": {},
   "outputs": [],
   "source": [
    "# tell Python how to connect to Mongo using PyMongo\n",
    "# Use flask_pymongo to set up mongo connection\n",
    "app.config[\"MONGO_URI\"] = \"mongodb://localhost:27017/mars_app\"\n",
    "# the above code tells Python that our app will connect to Mongo using a URI, uniform resource identifier (similar to URL),\n",
    "#   and the app can reach Mongo through our localhost server using a database named 'mars_app'\n",
    "mongo = PyMongo(app)"
   ]
  },
  {
   "cell_type": "code",
   "execution_count": null,
   "id": "7a90f326",
   "metadata": {},
   "outputs": [],
   "source": [
    "# set up Flask routes: \n",
    "#   one for the main HTML page everyone will view when visiting the web app\n",
    "#   one to actually scrape new data using the code we will write\n",
    "#   (these routes can be embedded into our web app and accessed via links or buttons)"
   ]
  },
  {
   "cell_type": "code",
   "execution_count": null,
   "id": "722506e2",
   "metadata": {},
   "outputs": [],
   "source": [
    "# define the route for the HTML page\n",
    "@app.route(\"/\")\n",
    "# the above code tells Flask what to display when we're looking at the home page, index.html(default HTML file to display \n",
    "#   the content we've scraped)\n",
    "def index():\n",
    "   mars = mongo.db.mars.find_one()\n",
    "#  uses PyMongo to find the 'mars' collection in our database, which we will create when we convert our Jupyter scraping\n",
    "#   code to Python Script; we will also assign that path to the 'mars' variable for use later\n",
    "   return render_template(\"index.html\", mars=mars)\n",
    "#  tells Flask to return an HTML template using an index.html file (we'll create this file after we build the Flask routes);\n",
    "#   use the 'mars' collection in MongoDB"
   ]
  },
  {
   "cell_type": "code",
   "execution_count": null,
   "id": "40f19068",
   "metadata": {},
   "outputs": [],
   "source": [
    "# set up our scraping route-it'll be tied to a button that will run the code when it's clicked\n",
    "@app.route(\"/scrape\")\n",
    "def scrape():\n",
    "   mars = mongo.db.mars\n",
    "#  create a new variable to hold the newly scraped data\n",
    "   mars_data = scraping.scrape_all()\n",
    "#  add an empty JSON object and use data stored in mars_data; upsert=True indicates to Mongo to create a new document if one\n",
    "#   doesn't already exist, and new data will always be saved even if we haven't already created a document for it\n",
    "   mars.update({}, mars_data, upsert=True)\n",
    "#  this will navigate our page back to / where we can see the updated content\n",
    "   return redirect('/', code=302)"
   ]
  },
  {
   "cell_type": "code",
   "execution_count": null,
   "id": "7afeec09",
   "metadata": {},
   "outputs": [],
   "source": [
    "# tell Flask to run the above code\n",
    "if __name__ == \"__main__\":\n",
    "   app.run()"
   ]
  }
 ],
 "metadata": {
  "kernelspec": {
   "display_name": "PythonData",
   "language": "python",
   "name": "pythondata"
  },
  "language_info": {
   "codemirror_mode": {
    "name": "ipython",
    "version": 3
   },
   "file_extension": ".py",
   "mimetype": "text/x-python",
   "name": "python",
   "nbconvert_exporter": "python",
   "pygments_lexer": "ipython3",
   "version": "3.7.10"
  }
 },
 "nbformat": 4,
 "nbformat_minor": 5
}
